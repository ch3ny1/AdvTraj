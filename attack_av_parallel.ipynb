{
 "cells": [
  {
   "cell_type": "code",
   "execution_count": 1,
   "metadata": {},
   "outputs": [],
   "source": [
    "from attack.attack_manager import *\n",
    "from utils.eval_util import SettingsRandomizer\n",
    "from tqdm import tqdm"
   ]
  },
  {
   "cell_type": "code",
   "execution_count": 2,
   "metadata": {},
   "outputs": [],
   "source": [
    "curr_dir = os.getcwd()\n",
    "settings = load_yaml(os.path.join(curr_dir, 'configs', 'config_roadside.yaml'))\n"
   ]
  },
  {
   "cell_type": "code",
   "execution_count": 3,
   "metadata": {},
   "outputs": [],
   "source": [
    "settings['ego_vehicle']['init_speed'] = [1.5,0.,0.]\n",
    "settings['ego_vehicle']['spawn_transform'] = [87.5, 130., 0.5, 0., 90., 0.]\n",
    "settings['victim']['spawn_transform'] = [85.4, 159.6, 0.777042, 0., -90., 0.]\n",
    "settings['attacker']['spawn_transform'] = [83.33, 172.57, 0.777042, 0., -90., 0.]\n",
    "settings['victim']['init_speed'] = [0.,-1.,0., 1.1]\n",
    "settings['simulation']['lr'] = 0.1\n",
    "settings['simulation']['iter'] = 5"
   ]
  },
  {
   "cell_type": "code",
   "execution_count": 8,
   "metadata": {},
   "outputs": [],
   "source": [
    "settings['ego_vehicle']['spawn_transform'] = [87.5, 120., 0.5, 0., 90., 0.]\n",
    "settings['simulation']['max_frame'] = 110\n",
    "settings_randomizer = SettingsRandomizer(settings)\n",
    "settings_randomizer.attacker_spawn_range = [83., 86., 165., 172.]\n",
    "settings_randomizer.victim_spawn_range = [83., 86., 154., 163.]\n",
    "settings_randomizer.ego_speed_range = [1.5, 1.7]\n",
    "settings_list = settings_randomizer.generate_settings(seed=2024)"
   ]
  },
  {
   "cell_type": "code",
   "execution_count": 5,
   "metadata": {},
   "outputs": [
    {
     "data": {
      "text/plain": [
       "125"
      ]
     },
     "execution_count": 5,
     "metadata": {},
     "output_type": "execute_result"
    }
   ],
   "source": [
    "len(settings_list)"
   ]
  },
  {
   "cell_type": "code",
   "execution_count": 9,
   "metadata": {},
   "outputs": [],
   "source": [
    "attack_manager = AttackManager(settings)"
   ]
  },
  {
   "cell_type": "code",
   "execution_count": null,
   "metadata": {},
   "outputs": [],
   "source": [
    "attack_manager.attacker_speed_limit = 3\n",
    "attack_manager.attacker_movement_limit = 0.3\n",
    "attack_manager.lr = 0.1\n",
    "attack_manager.iter = 5\n",
    "num_success = 0\n",
    "num = 0\n",
    "for setting in tqdm(settings_list[:37]):\n",
    "    success = attack_manager.run_attack_3d(setting, higher_view=True, save_imgs_bboxes=True)\n",
    "    if success:\n",
    "        num_success += 1\n",
    "    num += 1\n",
    "    print(\"Result: {} / {}\".format(num_success, num))\n",
    "print(\"ASR: {}\".format(num_success/len(settings_list)))"
   ]
  }
 ],
 "metadata": {
  "kernelspec": {
   "display_name": "tf-gpu-carla",
   "language": "python",
   "name": "python3"
  },
  "language_info": {
   "codemirror_mode": {
    "name": "ipython",
    "version": 3
   },
   "file_extension": ".py",
   "mimetype": "text/x-python",
   "name": "python",
   "nbconvert_exporter": "python",
   "pygments_lexer": "ipython3",
   "version": "3.8.17"
  }
 },
 "nbformat": 4,
 "nbformat_minor": 2
}
