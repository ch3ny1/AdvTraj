{
 "cells": [
  {
   "cell_type": "code",
   "execution_count": 1,
   "metadata": {},
   "outputs": [],
   "source": [
    "from attack.attack_manager import *\n",
    "from utils.eval_util import SettingsRandomizer\n",
    "from tqdm import tqdm"
   ]
  },
  {
   "cell_type": "code",
   "execution_count": 2,
   "metadata": {},
   "outputs": [],
   "source": [
    "curr_dir = os.getcwd()\n",
    "settings = load_yaml(os.path.join(curr_dir, 'configs', 'config.yaml'))\n"
   ]
  },
  {
   "cell_type": "code",
   "execution_count": 3,
   "metadata": {},
   "outputs": [],
   "source": [
    "settings['ego_vehicle']['init_speed'] = [1.5,0.,0.]\n",
    "settings['ego_vehicle']['spawn_transform'] = [87.5, 130., 0.5, 0., 90., 0.]\n",
    "settings['victim']['spawn_transform'] = [85.4, 159.6, 0.777042, 0., 0., 0.]\n",
    "settings['attacker']['spawn_transform'] = [83.33, 172.57, 0.777042, 0., 0., 0.]\n",
    "settings['victim']['init_speed'] = [1.,0.,0., 1.1]\n",
    "settings['simulation']['lr'] = 0.1\n",
    "settings['simulation']['iter'] = 20\n",
    "settings['world']['map'] = 'Town01'\n",
    "settings['simulation']['max_frame'] = 130"
   ]
  },
  {
   "cell_type": "code",
   "execution_count": 4,
   "metadata": {},
   "outputs": [],
   "source": [
    "settings_randomizer = SettingsRandomizer(settings)\n",
    "settings_randomizer.attacker_spawn_range = [213, 223., 251., 264.]\n",
    "settings_randomizer.victim_spawn_range = [220., 235., 254., 262.]\n",
    "settings_randomizer.attacker_spawn_number = 5\n",
    "settings_randomizer.victim_spawn_number = 5\n",
    "settings_list = settings_randomizer.generate_settings_surveillance(seed=2023)"
   ]
  },
  {
   "cell_type": "code",
   "execution_count": 5,
   "metadata": {},
   "outputs": [],
   "source": [
    "attack_manager = AttackManager(settings)"
   ]
  },
  {
   "cell_type": "code",
   "execution_count": null,
   "metadata": {},
   "outputs": [],
   "source": [
    "attack_manager.attacker_speed_limit = 3\n",
    "attack_manager.attacker_movement_limit = 0.3\n",
    "attack_manager.lr = 0.1\n",
    "attack_manager.iter = 5\n",
    "num_success = 0\n",
    "num = 0\n",
    "for setting in tqdm(settings_list):\n",
    "    success = attack_manager.run_attack_3d_surveillance(setting, higher_view=False, save_imgs_bboxes=False)\n",
    "    if success:\n",
    "        num_success += 1\n",
    "    num += 1\n",
    "    print(\"Result: {} / {}\".format(num_success, num))\n",
    "print(\"ASR: {}\".format(num_success/len(settings_list)))"
   ]
  }
 ],
 "metadata": {
  "kernelspec": {
   "display_name": "tf-gpu-carla",
   "language": "python",
   "name": "python3"
  },
  "language_info": {
   "codemirror_mode": {
    "name": "ipython",
    "version": 3
   },
   "file_extension": ".py",
   "mimetype": "text/x-python",
   "name": "python",
   "nbconvert_exporter": "python",
   "pygments_lexer": "ipython3",
   "version": "3.8.17"
  }
 },
 "nbformat": 4,
 "nbformat_minor": 2
}
